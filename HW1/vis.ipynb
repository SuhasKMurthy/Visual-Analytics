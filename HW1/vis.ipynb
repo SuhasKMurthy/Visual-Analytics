{
 "cells": [
  {
   "cell_type": "code",
   "execution_count": 4,
   "metadata": {
    "collapsed": true
   },
   "outputs": [],
   "source": [
    "import random\n",
    "from bokeh.plotting import figure\n",
    "from bokeh.io import show\n",
    "import pandas as pd\n",
    "from bokeh.models import Legend, LegendItem\n",
    "from bokeh.palettes import Viridis256\n"
   ]
  },
  {
   "cell_type": "code",
   "execution_count": 7,
   "metadata": {},
   "outputs": [
    {
     "name": "stdout",
     "output_type": "stream",
     "text": [
      "{'Albania': '#481C6E', 'Algeria': '#20918C', 'American Samoa': '#29788E', 'Andorra': '#482071', 'Angola': '#E1E318', 'Anguilla': '#6BCD59', 'Antigua and Barbuda': '#287A8E', 'Argentina': '#5EC961', 'Armenia': '#472777', 'Aruba': '#443781', 'Australia': '#440255', 'Austria': '#472878', 'Azerbaijan': '#3B508A', 'Bahamas': '#62CA5F', 'Bahrain': '#1EA087', 'Bangladesh': '#277E8E', 'Barbados': '#3E4989', 'Belarus': '#433A83', 'Belgium': '#45065A', 'Belize': '#ECE41A', 'Benin': '#CAE01E', 'Bermuda': '#3A528B', 'Bhutan': '#29AF7F', 'Bolivia': '#481D6F', 'Bosnia and Herzegovina': '#24868D', 'Botswana': '#2FB37B', 'Brazil': '#ADDC30', 'British Virgin Islands': '#2A758E', 'Brunei': '#1E988A', 'Bulgaria': '#38568B', 'Burkina Faso': '#70CE56', 'Burundi': '#25828E', 'Cambodia': '#45347F', 'Cameroon': '#31648D', 'Canada': '#5BC862', 'Cape Verde': '#FAE622', 'Cayman Islands': '#3F4587', 'Central African Republic': '#3A538B', 'Chad': '#95D73F', 'Channel Islands': '#74D054', 'Chile': '#83D34B', 'China': '#4BC26C', 'Colombia': '#404387', 'Comoros': '#E9E419', 'Congo, Dem. Rep.': '#3C4D8A', 'Congo, Rep.': '#1FA386', 'Cook Is': '#2CB17D', 'Costa Rica': '#CDE01D', \"Cote d'Ivoire\": '#77D052', 'Croatia': '#450558', 'Cuba': '#471669', 'Cyprus': '#277D8E', 'Czech Republic': '#3D4C89', 'Denmark': '#7ED24E', 'Djibouti': '#20908C', 'Dominica': '#1E9E88', 'Dominican Republic': '#48196B', 'Ecuador': '#3F4788', 'Egypt': '#30B47A', 'El Salvador': '#45085B', 'Equatorial Guinea': '#218E8C', 'Eritrea': '#1E9F88', 'Estonia': '#81D34C', 'Ethiopia': '#32B57A', 'Faeroe Islands': '#BADE27', 'Falkland Is (Malvinas)': '#AADB32', 'Fiji': '#355D8C', 'Finland': '#23898D', 'France': '#471567', 'French Guiana': '#46095C', 'French Polynesia': '#60C960', 'Gabon': '#2E6C8E', 'Gambia': '#25AB81', 'Georgia': '#453580', 'Germany': '#EEE51B', 'Ghana': '#1F938B', 'Gibraltar': '#46317E', 'Greece': '#F1E51C', 'Greenland': '#8DD644', 'Grenada': '#472C7B', 'Guadeloupe': '#365B8C', 'Guam': '#287B8E', 'Guatemala': '#482273', 'Guinea': '#2C728E', 'Guinea-Bissau': '#2F698D', 'Guyana': '#2C718E', 'Haiti': '#40BD72', 'Holy See': '#218C8D', 'Honduras': '#97D83E', 'Hong Kong, China': '#277C8E', 'Hungary': '#228A8D', 'Iceland': '#49C16D', 'India': '#A2DA37', 'Indonesia': '#218D8C', 'Iran': '#92D741', 'Iraq': '#2AB07E', 'Ireland': '#8BD546', 'Isle of Man': '#471466', 'Israel': '#E7E419', 'Italy': '#90D643', 'Jamaica': '#28AE7F', 'Japan': '#31668D', 'Jordan': '#A7DB33', 'Kazakhstan': '#D7E219', 'Kenya': '#462D7C', 'Kiribati': '#3D4B89', 'North Korea': '#57C665', 'South Korea': '#45BF6F', 'Kuwait': '#FDE724', 'Kyrgyz Republic': '#39B976', 'Lao': '#59C764', 'Latvia': '#26818E', 'Lebanon': '#53C567', 'Lesotho': '#1FA187', 'Liberia': '#F3E51E', 'Libya': '#471265', 'Liechtenstein': '#20A485', 'Lithuania': '#1E998A', 'Luxembourg': '#433C84', 'Macao, China': '#9AD83C', 'Macedonia, FYR': '#404487', 'Madagascar': '#B5DD2B', 'Malawi': '#23A883', 'Malaysia': '#39548B', 'Maldives': '#2B738E', 'Mali': '#CFE11C', 'Malta': '#423D84', 'Marshall Islands': '#2BB17D', 'Martinique': '#1F958B', 'Mauritania': '#3C4E8A', 'Mauritius': '#22A784', 'Mayotte': '#355C8C', 'Mexico': '#64CB5D', 'Micronesia, Fed. Sts.': '#69CC5B', 'Moldova': '#470F62', 'Monaco': '#460C5F', 'Mongolia': '#35B778', 'Montenegro': '#345E8D', 'Montserrat': '#2E6D8E', 'Morocco': '#7CD24F', 'Mozambique': '#44BE70', 'Myanmar': '#472B7A', 'Namibia': '#472575', 'Nauru': '#345F8D', 'Nepal': '#DCE218', 'Netherlands': '#472A79', 'New Caledonia': '#C5DF21', 'New Zealand': '#2EB27C', 'Nicaragua': '#1E998A', 'Niger': '#33B679', 'Nigeria': '#23888D', 'Niue': '#B7DD29', 'Northern Mariana Islands': '#472676', 'Norway': '#267F8E', 'Oman': '#B2DD2C', 'Pakistan': '#67CC5C', 'Palau': '#2B748E', 'Panama': '#37588C', 'Papua New Guinea': '#D4E11A', 'Paraguay': '#C7E01F', 'Peru': '#42BE71', 'Philippines': '#4DC26B', 'Poland': '#3B518A', 'Portugal': '#3EBC73', 'Puerto Rico': '#BDDE26', 'Qatar': '#3BBA75', 'Reunion': '#3D4A89', 'Romania': '#30678D', 'Russia': '#A5DA35', 'Rwanda': '#4FC369', 'St. Helena': '#E4E318', 'St. Kitts and Nevis': '#24858D', 'St. Lucia': '#26AC81', 'St. Vincent and the Grenadines': '#45327F', 'St.-Pierre-et-Miquelon': '#51C468', 'Samoa': '#3E4888', 'San Marino': '#24AA82', 'Sao Tome and Principe': '#1F948B', 'Saudi Arabia': '#1E9D88', 'Senegal': '#1E978A', 'Serbia': '#433B83', 'Seychelles': '#20A585', 'Sierra Leone': '#1E9B89', 'Singapore': '#31658D', 'Slovak Republic': '#55C666', 'Slovenia': '#47C06E', 'Solomon Islands': '#AFDC2E', 'Somalia': '#228B8D', 'South Africa': '#25838D', 'Spain': '#46307D', 'Sri Lanka': '#C2DF22', 'Sudan': '#37598C', 'Suriname': '#1E9C89', 'Swaziland': '#33618D', 'Sweden': '#2A778E', 'Switzerland': '#443982', 'Syria': '#36B877', 'Tajikistan': '#32628D', 'Tanzania': '#DFE318', 'Thailand': '#DAE218', 'Timor-Leste': '#2D6F8E', 'Togo': '#D2E11B', 'Tokelau': '#38578C', 'Tonga': '#23878D', 'Trinidad and Tobago': '#9DD93A', 'Tunisia': '#414186', 'Turkey': '#72CF55', 'Turkmenistan': '#1F928C', 'Turks and Caicos Islands': '#79D151', 'Tuvalu': '#21A784', 'Uganda': '#208F8C', 'Ukraine': '#26808E', 'United Arab Emirates': '#1FA286', 'United Kingdom': '#BFDF24', 'United States': '#2F6A8D', 'Uruguay': '#482172', 'Uzbekistan': '#460E61', 'Wallis et Futuna': '#2A768E', 'Vanuatu': '#460B5E', 'Venezuela': '#2D6E8E', 'West Bank and Gaza': '#39558B', 'Western Sahara': '#33608D', 'Vietnam': '#6DCE58', 'Virgin Islands (U.S.)': '#86D449', 'Yemen': '#2E6B8E', 'Zambia': '#21A685', 'Zimbabwe': '#F6E61F', 'South Sudan': '#9FD938'}\n"
     ]
    }
   ],
   "source": [
    "rang = list(range(1800, 2015, 10))\n",
    "df = pd.read_csv('population.csv')\n",
    "\n",
    "df.dropna(subset=['1800'], inplace=True)\n",
    "countries = df.iloc[1:, 0]\n",
    "lcountries = list(countries)\n",
    "    \n",
    "random.shuffle(Viridis256)\n",
    "x = Viridis256[0:len(lcountries)]\n",
    "countries_dict = dict(zip(lcountries, x))\n",
    "print(countries_dict)"
   ]
  },
  {
   "cell_type": "code",
   "execution_count": 11,
   "metadata": {},
   "outputs": [],
   "source": [
    "rang = list(range(1800, 2015, 10))\n",
    "rang = list(map(str, rang))\n",
    "\n",
    "# use bokeh library to obtain the plot\n",
    "plotTitle = \"Population Growth\"\n",
    "p = figure(title=plotTitle, x_axis_label='Year', y_axis_label='Population',\n",
    "           width=1000, height=500)\n",
    "\n",
    "rang = list(map(str, rang))\n",
    "\n",
    "items = []\n",
    "\n",
    "rows = random.sample(range(1,df.shape[0]), 25)\n",
    "\n",
    "#for i in range(1, df.shape[0]):\n",
    "for i in rows:\n",
    "    country = df.iloc[i, 0]\n",
    "    col = countries_dict.get(df.iloc[i, 0])\n",
    "    df1 = df.iloc[i, 1:]\n",
    "    y1 = df1.loc[df1.index.isin(rang)]\n",
    "\n",
    "    a = p.circle(x=rang, y=y1, size=3, color=col, alpha=0.8)\n",
    "    items.append(LegendItem(label=country, renderers=[a]))\n",
    "    p.line(x=rang, y=y1, line_width=2, color=col)\n",
    "\n",
    "legend = Legend(items=items, location=(0, -30))\n",
    "\n",
    "p.add_layout(legend, 'left')\n",
    "\n",
    "show(p)"
   ]
  },
  {
   "cell_type": "code",
   "execution_count": null,
   "metadata": {
    "collapsed": true
   },
   "outputs": [],
   "source": []
  }
 ],
 "metadata": {
  "kernelspec": {
   "display_name": "Python 3",
   "language": "python",
   "name": "python3"
  },
  "language_info": {
   "codemirror_mode": {
    "name": "ipython",
    "version": 3
   },
   "file_extension": ".py",
   "mimetype": "text/x-python",
   "name": "python",
   "nbconvert_exporter": "python",
   "pygments_lexer": "ipython3",
   "version": "3.6.1"
  }
 },
 "nbformat": 4,
 "nbformat_minor": 2
}
